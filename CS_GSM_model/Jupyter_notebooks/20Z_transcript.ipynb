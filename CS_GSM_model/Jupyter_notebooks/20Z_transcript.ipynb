{
 "cells": [
  {
   "cell_type": "code",
   "execution_count": 2,
   "metadata": {},
   "outputs": [],
   "source": [
    "import cobra\n",
    "import os\n",
    "import pandas as pd\n",
    "import riptide\n",
    "import ipywidgets as widgets\n",
    "import escher\n",
    "import numpy as np\n",
    "from pybiouml import pybiouml\n",
    "from escher import Builder\n",
    "\n",
    "joiner = lambda e1, e2: os.path.join(e1, e2)\n",
    "maker = lambda l: [os.makedirs(el) for el in l]\n"
   ]
  },
  {
   "cell_type": "markdown",
   "metadata": {},
   "source": [
    "# Prepare files and data"
   ]
  },
  {
   "cell_type": "markdown",
   "metadata": {},
   "source": [
    "### Paths"
   ]
  },
  {
   "cell_type": "code",
   "execution_count": 4,
   "metadata": {},
   "outputs": [],
   "source": [
    "path = '20Z'\n",
    "initial_transcript = joiner(path, 'initial_transcriptomics')\n",
    "wt_models = joiner(path, 'wt_models')\n",
    "transcript = joiner(path, 'transcriptomics')\n",
    "counts = joiner(path, 'counts')\n",
    "out_path = joiner(path, 'out')\n",
    "drf = joiner(out_path, 'DRF')\n",
    "fluxes = joiner(out_path, 'fluxes')\n",
    "out_models = joiner(out_path, 'models')\n",
    "\n",
    "paths = [initial_transcript, transcript, out_path, counts, wt_models, drf, fluxes, out_models]"
   ]
  },
  {
   "cell_type": "markdown",
   "metadata": {},
   "source": [
    "### Make file system"
   ]
  },
  {
   "cell_type": "code",
   "execution_count": 18,
   "metadata": {},
   "outputs": [
    {
     "data": {
      "text/plain": [
       "[None, None, None, None, None, None, None, None]"
      ]
     },
     "execution_count": 18,
     "metadata": {},
     "output_type": "execute_result"
    }
   ],
   "source": [
    "maker([path])\n",
    "maker(paths)"
   ]
  },
  {
   "cell_type": "markdown",
   "metadata": {},
   "source": [
    "### Download DEGs files"
   ]
  },
  {
   "cell_type": "code",
   "execution_count": 14,
   "metadata": {},
   "outputs": [],
   "source": [
    "from pybiouml import pybiouml as pb\n",
    "con = pb.PyBiouml()"
   ]
  },
  {
   "cell_type": "code",
   "execution_count": 23,
   "metadata": {},
   "outputs": [
    {
     "data": {
      "text/html": [
       "<div>\n",
       "<style scoped>\n",
       "    .dataframe tbody tr th:only-of-type {\n",
       "        vertical-align: middle;\n",
       "    }\n",
       "\n",
       "    .dataframe tbody tr th {\n",
       "        vertical-align: top;\n",
       "    }\n",
       "\n",
       "    .dataframe thead th {\n",
       "        text-align: right;\n",
       "    }\n",
       "</style>\n",
       "<table border=\"1\" class=\"dataframe\">\n",
       "  <thead>\n",
       "    <tr style=\"text-align: right;\">\n",
       "      <th></th>\n",
       "      <th>name</th>\n",
       "      <th>hasChildren</th>\n",
       "      <th>class</th>\n",
       "    </tr>\n",
       "  </thead>\n",
       "  <tbody>\n",
       "    <tr>\n",
       "      <th>0</th>\n",
       "      <td>CH3OH (Ca,W,no_Cu) vs CH4 (Ca,W,Cu)</td>\n",
       "      <td>True</td>\n",
       "      <td>0</td>\n",
       "    </tr>\n",
       "    <tr>\n",
       "      <th>1</th>\n",
       "      <td>CH3OH (La,W,no_Cu) vs CH4 (Ca,W,Cu)</td>\n",
       "      <td>True</td>\n",
       "      <td>0</td>\n",
       "    </tr>\n",
       "    <tr>\n",
       "      <th>2</th>\n",
       "      <td>CH3OH Ca vs CH3OH La (W,no_Cu)</td>\n",
       "      <td>True</td>\n",
       "      <td>0</td>\n",
       "    </tr>\n",
       "    <tr>\n",
       "      <th>3</th>\n",
       "      <td>KEGG Pathway Enrichment Analysis</td>\n",
       "      <td>True</td>\n",
       "      <td>0</td>\n",
       "    </tr>\n",
       "    <tr>\n",
       "      <th>4</th>\n",
       "      <td>Low CH4 (Ca,W,Cu) vs CH4 (Ca,W,Cu)</td>\n",
       "      <td>True</td>\n",
       "      <td>0</td>\n",
       "    </tr>\n",
       "    <tr>\n",
       "      <th>5</th>\n",
       "      <td>Low CH4 (La,W,Cu) vs CH4 (Ca,W,Cu)</td>\n",
       "      <td>True</td>\n",
       "      <td>0</td>\n",
       "    </tr>\n",
       "  </tbody>\n",
       "</table>\n",
       "</div>"
      ],
      "text/plain": [
       "                                  name  hasChildren  class\n",
       "0  CH3OH (Ca,W,no_Cu) vs CH4 (Ca,W,Cu)         True      0\n",
       "1  CH3OH (La,W,no_Cu) vs CH4 (Ca,W,Cu)         True      0\n",
       "2       CH3OH Ca vs CH3OH La (W,no_Cu)         True      0\n",
       "3     KEGG Pathway Enrichment Analysis         True      0\n",
       "4   Low CH4 (Ca,W,Cu) vs CH4 (Ca,W,Cu)         True      0\n",
       "5   Low CH4 (La,W,Cu) vs CH4 (Ca,W,Cu)         True      0"
      ]
     },
     "execution_count": 23,
     "metadata": {},
     "output_type": "execute_result"
    }
   ],
   "source": [
    "degs_analysis_folder = con.ls('data/Collaboration (git)/20ZR_CS_GSM_model/Data/RNA-seq/Differential Gene Expression Analysis')\n",
    "degs_analysis_folder"
   ]
  },
  {
   "cell_type": "code",
   "execution_count": 24,
   "metadata": {},
   "outputs": [
    {
     "data": {
      "text/plain": [
       "['CH3OH (Ca,W,no_Cu) vs CH4 (Ca,W,Cu)',\n",
       " 'CH3OH (La,W,no_Cu) vs CH4 (Ca,W,Cu)',\n",
       " 'CH3OH Ca vs CH3OH La (W,no_Cu)',\n",
       " 'Low CH4 (Ca,W,Cu) vs CH4 (Ca,W,Cu)',\n",
       " 'Low CH4 (La,W,Cu) vs CH4 (Ca,W,Cu)']"
      ]
     },
     "execution_count": 24,
     "metadata": {},
     "output_type": "execute_result"
    }
   ],
   "source": [
    "degs_folders = [f for f in degs_analysis_folder.name.values if not f.startswith('KEGG')]\n",
    "degs_folders"
   ]
  },
  {
   "cell_type": "code",
   "execution_count": 26,
   "metadata": {},
   "outputs": [],
   "source": [
    "for deg in degs_folders:\n",
    "    con.export(f'data/Collaboration (git)/20ZR_CS_GSM_model/Data/RNA-seq/' \\\n",
    "        f'Differential Gene Expression Analysis/{deg}/{deg}.result',\n",
    "                   exporter='Tab-separated text (*.txt)',\n",
    "                   target_file=f'20Z/initial_transcriptomics/{deg}.txt')"
   ]
  },
  {
   "cell_type": "markdown",
   "metadata": {},
   "source": [
    "### Download counts files"
   ]
  },
  {
   "cell_type": "code",
   "execution_count": 16,
   "metadata": {},
   "outputs": [
    {
     "data": {
      "text/html": [
       "<div>\n",
       "<style scoped>\n",
       "    .dataframe tbody tr th:only-of-type {\n",
       "        vertical-align: middle;\n",
       "    }\n",
       "\n",
       "    .dataframe tbody tr th {\n",
       "        vertical-align: top;\n",
       "    }\n",
       "\n",
       "    .dataframe thead th {\n",
       "        text-align: right;\n",
       "    }\n",
       "</style>\n",
       "<table border=\"1\" class=\"dataframe\">\n",
       "  <thead>\n",
       "    <tr style=\"text-align: right;\">\n",
       "      <th></th>\n",
       "      <th>name</th>\n",
       "      <th>hasChildren</th>\n",
       "      <th>class</th>\n",
       "    </tr>\n",
       "  </thead>\n",
       "  <tbody>\n",
       "    <tr>\n",
       "      <th>0</th>\n",
       "      <td>normalized_counts.ch4</td>\n",
       "      <td>False</td>\n",
       "      <td>0</td>\n",
       "    </tr>\n",
       "    <tr>\n",
       "      <th>1</th>\n",
       "      <td>normalized_counts.ch4_lim</td>\n",
       "      <td>False</td>\n",
       "      <td>0</td>\n",
       "    </tr>\n",
       "    <tr>\n",
       "      <th>2</th>\n",
       "      <td>normalized_counts.la_ch4_bioreactor</td>\n",
       "      <td>False</td>\n",
       "      <td>0</td>\n",
       "    </tr>\n",
       "    <tr>\n",
       "      <th>3</th>\n",
       "      <td>normalized_counts.la_limit_bioreactor</td>\n",
       "      <td>False</td>\n",
       "      <td>0</td>\n",
       "    </tr>\n",
       "  </tbody>\n",
       "</table>\n",
       "</div>"
      ],
      "text/plain": [
       "                                    name  hasChildren  class\n",
       "0                  normalized_counts.ch4        False      0\n",
       "1              normalized_counts.ch4_lim        False      0\n",
       "2    normalized_counts.la_ch4_bioreactor        False      0\n",
       "3  normalized_counts.la_limit_bioreactor        False      0"
      ]
     },
     "execution_count": 16,
     "metadata": {},
     "output_type": "execute_result"
    }
   ],
   "source": [
    "path_to_counts = 'data/Collaboration (git)/20ZR_CS_GSM_model/Data/RNA-seq/Counts'\n",
    "counts_biouml_folder = con.ls(path_to_counts)\n",
    "counts_biouml_folder"
   ]
  },
  {
   "cell_type": "code",
   "execution_count": 20,
   "metadata": {},
   "outputs": [
    {
     "data": {
      "text/plain": [
       "['normalized_counts.ch4',\n",
       " 'normalized_counts.ch4_lim',\n",
       " 'normalized_counts.la_ch4_bioreactor',\n",
       " 'normalized_counts.la_limit_bioreactor']"
      ]
     },
     "execution_count": 20,
     "metadata": {},
     "output_type": "execute_result"
    }
   ],
   "source": [
    "counts_files = counts_biouml_folder['name'].tolist()\n",
    "counts_files"
   ]
  },
  {
   "cell_type": "code",
   "execution_count": 21,
   "metadata": {},
   "outputs": [],
   "source": [
    "for cf in counts_files:\n",
    "    con.export(f'{path_to_counts}/{cf}', \n",
    "               exporter='Tab-separated text (*.txt)', \n",
    "               target_file=f'20Z/counts/{cf}.txt')"
   ]
  },
  {
   "cell_type": "code",
   "execution_count": 23,
   "metadata": {},
   "outputs": [],
   "source": [
    "con.logout()"
   ]
  },
  {
   "cell_type": "markdown",
   "metadata": {},
   "source": [
    "### Prepare DEGs files to RIPTiDE format files"
   ]
  },
  {
   "cell_type": "code",
   "execution_count": 28,
   "metadata": {},
   "outputs": [],
   "source": [
    "for e in os.listdir(initial_transcript):\n",
    "    if not e.startswith('.'):\n",
    "        t = pd.read_table(joiner(initial_transcript, e), index_col=0)\n",
    "        t['log2FoldChange'].to_csv(joiner(transcript, e),sep='\\t')"
   ]
  },
  {
   "cell_type": "markdown",
   "metadata": {},
   "source": [
    "# Transcript integration in GSM model iIA409"
   ]
  },
  {
   "cell_type": "code",
   "execution_count": 13,
   "metadata": {},
   "outputs": [
    {
     "ename": "CobraSBMLError",
     "evalue": "Something went wrong reading the SBML model. Most likely the SBML model is not valid. Please check that your model is valid using the `cobra.io.sbml.validate_sbml_model` function or via the online validator at http://sbml.org/validator .\n\t`(model, errors) = validate_sbml_model(filename)`\nIf the model is valid and cannot be read please open an issue at https://github.com/opencobra/cobrapy/issues .",
     "output_type": "error",
     "traceback": [
      "\u001b[0;31m---------------------------------------------------------------------------\u001b[0m",
      "\u001b[0;31mCobraSBMLError\u001b[0m                            Traceback (most recent call last)",
      "File \u001b[0;32m~/.local/lib/python3.9/site-packages/cobra/io/sbml.py:458\u001b[0m, in \u001b[0;36mread_sbml_model\u001b[0;34m(filename, number, f_replace, **kwargs)\u001b[0m\n\u001b[1;32m    457\u001b[0m     doc \u001b[38;5;241m=\u001b[39m _get_doc_from_filename(filename)\n\u001b[0;32m--> 458\u001b[0m     \u001b[38;5;28;01mreturn\u001b[39;00m \u001b[43m_sbml_to_model\u001b[49m\u001b[43m(\u001b[49m\u001b[43mdoc\u001b[49m\u001b[43m,\u001b[49m\u001b[43m \u001b[49m\u001b[43mnumber\u001b[49m\u001b[38;5;241;43m=\u001b[39;49m\u001b[43mnumber\u001b[49m\u001b[43m,\u001b[49m\u001b[43m \u001b[49m\u001b[43mf_replace\u001b[49m\u001b[38;5;241;43m=\u001b[39;49m\u001b[43mf_replace\u001b[49m\u001b[43m,\u001b[49m\u001b[43m \u001b[49m\u001b[38;5;241;43m*\u001b[39;49m\u001b[38;5;241;43m*\u001b[39;49m\u001b[43mkwargs\u001b[49m\u001b[43m)\u001b[49m\n\u001b[1;32m    459\u001b[0m \u001b[38;5;28;01mexcept\u001b[39;00m \u001b[38;5;167;01mIOError\u001b[39;00m \u001b[38;5;28;01mas\u001b[39;00m e:\n",
      "File \u001b[0;32m~/.local/lib/python3.9/site-packages/cobra/io/sbml.py:571\u001b[0m, in \u001b[0;36m_sbml_to_model\u001b[0;34m(doc, number, f_replace, set_missing_bounds, **kwargs)\u001b[0m\n\u001b[1;32m    570\u001b[0m \u001b[38;5;28;01mif\u001b[39;00m model \u001b[38;5;129;01mis\u001b[39;00m \u001b[38;5;28;01mNone\u001b[39;00m:\n\u001b[0;32m--> 571\u001b[0m     \u001b[38;5;28;01mraise\u001b[39;00m CobraSBMLError(\u001b[38;5;124m\"\u001b[39m\u001b[38;5;124mNo SBML model detected in file.\u001b[39m\u001b[38;5;124m\"\u001b[39m)\n\u001b[1;32m    572\u001b[0m model_fbc: \u001b[38;5;124m\"\u001b[39m\u001b[38;5;124mlibsbml.FbcModelPlugin\u001b[39m\u001b[38;5;124m\"\u001b[39m \u001b[38;5;241m=\u001b[39m model\u001b[38;5;241m.\u001b[39mgetPlugin(\u001b[38;5;124m\"\u001b[39m\u001b[38;5;124mfbc\u001b[39m\u001b[38;5;124m\"\u001b[39m)\n",
      "\u001b[0;31mCobraSBMLError\u001b[0m: No SBML model detected in file.",
      "\nThe above exception was the direct cause of the following exception:\n",
      "\u001b[0;31mCobraSBMLError\u001b[0m                            Traceback (most recent call last)",
      "Input \u001b[0;32mIn [13]\u001b[0m, in \u001b[0;36m<cell line: 2>\u001b[0;34m()\u001b[0m\n\u001b[1;32m      1\u001b[0m \u001b[38;5;66;03m#model = cobra.io.read_sbml_model(joiner(path, 'W_La_Ca_iIA409_20Z.xml'))\u001b[39;00m\n\u001b[0;32m----> 2\u001b[0m model \u001b[38;5;241m=\u001b[39m \u001b[43mcobra\u001b[49m\u001b[38;5;241;43m.\u001b[39;49m\u001b[43mio\u001b[49m\u001b[38;5;241;43m.\u001b[39;49m\u001b[43mread_sbml_model\u001b[49m\u001b[43m(\u001b[49m\u001b[43mjoiner\u001b[49m\u001b[43m(\u001b[49m\u001b[43mpath\u001b[49m\u001b[43m,\u001b[49m\u001b[43m \u001b[49m\u001b[38;5;124;43m'\u001b[39;49m\u001b[38;5;124;43mfbc_iIA409_20Z.xml\u001b[39;49m\u001b[38;5;124;43m'\u001b[39;49m\u001b[43m)\u001b[49m\u001b[43m)\u001b[49m\n",
      "File \u001b[0;32m~/.local/lib/python3.9/site-packages/cobra/io/sbml.py:472\u001b[0m, in \u001b[0;36mread_sbml_model\u001b[0;34m(filename, number, f_replace, **kwargs)\u001b[0m\n\u001b[1;32m    462\u001b[0m \u001b[38;5;28;01mexcept\u001b[39;00m \u001b[38;5;167;01mException\u001b[39;00m \u001b[38;5;28;01mas\u001b[39;00m original_error:\n\u001b[1;32m    463\u001b[0m     cobra_error \u001b[38;5;241m=\u001b[39m CobraSBMLError(\n\u001b[1;32m    464\u001b[0m         \u001b[38;5;124m\"\u001b[39m\u001b[38;5;124mSomething went wrong reading the SBML model. Most likely the SBML\u001b[39m\u001b[38;5;124m\"\u001b[39m\n\u001b[1;32m    465\u001b[0m         \u001b[38;5;124m\"\u001b[39m\u001b[38;5;124m model is not valid. Please check that your model is valid using \u001b[39m\u001b[38;5;124m\"\u001b[39m\n\u001b[0;32m   (...)\u001b[0m\n\u001b[1;32m    470\u001b[0m         \u001b[38;5;124m\"\u001b[39m\u001b[38;5;124mat https://github.com/opencobra/cobrapy/issues .\u001b[39m\u001b[38;5;124m\"\u001b[39m\n\u001b[1;32m    471\u001b[0m     )\n\u001b[0;32m--> 472\u001b[0m     \u001b[38;5;28;01mraise\u001b[39;00m cobra_error \u001b[38;5;28;01mfrom\u001b[39;00m \u001b[38;5;21;01moriginal_error\u001b[39;00m\n",
      "\u001b[0;31mCobraSBMLError\u001b[0m: Something went wrong reading the SBML model. Most likely the SBML model is not valid. Please check that your model is valid using the `cobra.io.sbml.validate_sbml_model` function or via the online validator at http://sbml.org/validator .\n\t`(model, errors) = validate_sbml_model(filename)`\nIf the model is valid and cannot be read please open an issue at https://github.com/opencobra/cobrapy/issues ."
     ]
    }
   ],
   "source": [
    "model = cobra.io.read_sbml_model(joiner(path, 'W_La_Ca_iIA409_20Z.xml'))"
   ]
  },
  {
   "cell_type": "code",
   "execution_count": 27,
   "metadata": {},
   "outputs": [
    {
     "data": {
      "application/vnd.jupyter.widget-view+json": {
       "model_id": "564c4532971c4d4d9acf484a4b9c96a7",
       "version_major": 2,
       "version_minor": 0
      },
      "text/plain": [
       "Dropdown(description='Type of trancripts', options=('20Z/transcriptomics', '20Z/counts'), value='20Z/transcrip…"
      ]
     },
     "metadata": {},
     "output_type": "display_data"
    }
   ],
   "source": [
    "tr_types_files = [transcript, counts]\n",
    "\n",
    "transcript_type_selector = widgets.Dropdown(\n",
    "    options=tr_types_files,\n",
    "    value=tr_types_files[0],\n",
    "    description='Type of trancripts',\n",
    ")\n",
    "transcript_type_selector"
   ]
  },
  {
   "cell_type": "code",
   "execution_count": 59,
   "metadata": {},
   "outputs": [],
   "source": [
    "files = os.listdir(transcript_type_selector.value)"
   ]
  },
  {
   "cell_type": "code",
   "execution_count": 6,
   "metadata": {},
   "outputs": [
    {
     "data": {
      "text/html": [
       "<h3>Objective</h3><p>1.0 BOF = 0.15016705520299403</p><h4>Uptake</h4><table border=\"1\" class=\"dataframe\">\n",
       "  <thead>\n",
       "    <tr style=\"text-align: right;\">\n",
       "      <th>Metabolite</th>\n",
       "      <th>Reaction</th>\n",
       "      <th>Flux</th>\n",
       "      <th>C-Number</th>\n",
       "      <th>C-Flux</th>\n",
       "    </tr>\n",
       "  </thead>\n",
       "  <tbody>\n",
       "    <tr>\n",
       "      <td>ca2_e</td>\n",
       "      <td>EX_ca2_e</td>\n",
       "      <td>0.001502</td>\n",
       "      <td>0</td>\n",
       "      <td>0.00%</td>\n",
       "    </tr>\n",
       "    <tr>\n",
       "      <td>ch4_e</td>\n",
       "      <td>EX_ch4_e</td>\n",
       "      <td>11.7</td>\n",
       "      <td>1</td>\n",
       "      <td>100.00%</td>\n",
       "    </tr>\n",
       "    <tr>\n",
       "      <td>cu2_e</td>\n",
       "      <td>EX_cu2_e</td>\n",
       "      <td>0.001502</td>\n",
       "      <td>0</td>\n",
       "      <td>0.00%</td>\n",
       "    </tr>\n",
       "    <tr>\n",
       "      <td>fe2_e</td>\n",
       "      <td>EX_fe2_e</td>\n",
       "      <td>0.000919</td>\n",
       "      <td>0</td>\n",
       "      <td>0.00%</td>\n",
       "    </tr>\n",
       "    <tr>\n",
       "      <td>mg2_e</td>\n",
       "      <td>EX_mg2_e</td>\n",
       "      <td>0.01051</td>\n",
       "      <td>0</td>\n",
       "      <td>0.00%</td>\n",
       "    </tr>\n",
       "    <tr>\n",
       "      <td>no3_e</td>\n",
       "      <td>EX_no3_e</td>\n",
       "      <td>1.019</td>\n",
       "      <td>0</td>\n",
       "      <td>0.00%</td>\n",
       "    </tr>\n",
       "    <tr>\n",
       "      <td>o2_e</td>\n",
       "      <td>EX_o2_e</td>\n",
       "      <td>13.77</td>\n",
       "      <td>0</td>\n",
       "      <td>0.00%</td>\n",
       "    </tr>\n",
       "    <tr>\n",
       "      <td>pi_e</td>\n",
       "      <td>EX_pi_e</td>\n",
       "      <td>0.1608</td>\n",
       "      <td>0</td>\n",
       "      <td>0.00%</td>\n",
       "    </tr>\n",
       "    <tr>\n",
       "      <td>so4_e</td>\n",
       "      <td>EX_so4_e</td>\n",
       "      <td>0.01772</td>\n",
       "      <td>0</td>\n",
       "      <td>0.00%</td>\n",
       "    </tr>\n",
       "  </tbody>\n",
       "</table><h4>Secretion</h4><table border=\"1\" class=\"dataframe\">\n",
       "  <thead>\n",
       "    <tr style=\"text-align: right;\">\n",
       "      <th>Metabolite</th>\n",
       "      <th>Reaction</th>\n",
       "      <th>Flux</th>\n",
       "      <th>C-Number</th>\n",
       "      <th>C-Flux</th>\n",
       "    </tr>\n",
       "  </thead>\n",
       "  <tbody>\n",
       "    <tr>\n",
       "      <td>co2_c</td>\n",
       "      <td>EX_CO2</td>\n",
       "      <td>-5.024</td>\n",
       "      <td>1</td>\n",
       "      <td>100.00%</td>\n",
       "    </tr>\n",
       "    <tr>\n",
       "      <td>h2o_e</td>\n",
       "      <td>EX_h2o_e</td>\n",
       "      <td>-9.543</td>\n",
       "      <td>0</td>\n",
       "      <td>0.00%</td>\n",
       "    </tr>\n",
       "    <tr>\n",
       "      <td>h_c</td>\n",
       "      <td>EX_h_c</td>\n",
       "      <td>-1.205</td>\n",
       "      <td>0</td>\n",
       "      <td>0.00%</td>\n",
       "    </tr>\n",
       "  </tbody>\n",
       "</table>"
      ],
      "text/plain": [
       "<cobra.summary.model_summary.ModelSummary at 0x7f12e69e7760>"
      ]
     },
     "execution_count": 6,
     "metadata": {},
     "output_type": "execute_result"
    }
   ],
   "source": [
    "model.summary()"
   ]
  },
  {
   "cell_type": "code",
   "execution_count": 60,
   "metadata": {},
   "outputs": [
    {
     "data": {
      "application/vnd.jupyter.widget-view+json": {
       "model_id": "f689eb92b5224b33841b315dc07d136e",
       "version_major": 2,
       "version_minor": 0
      },
      "text/plain": [
       "Dropdown(description='Transcripts', options=('control_2020.counts.tsv', 'La_W_Cu.counts.tsv', 'La_W_noCu_CH3OH…"
      ]
     },
     "metadata": {},
     "output_type": "display_data"
    }
   ],
   "source": [
    "transcript_selector = widgets.Dropdown(\n",
    "    options=files,\n",
    "    value=files[0],\n",
    "    description='Transcripts',\n",
    ")\n",
    "transcript_selector"
   ]
  },
  {
   "cell_type": "code",
   "execution_count": 41,
   "metadata": {},
   "outputs": [
    {
     "data": {
      "application/vnd.jupyter.widget-view+json": {
       "model_id": "dd943d4916974e67b85191a15c398ac5",
       "version_major": 2,
       "version_minor": 0
      },
      "text/plain": [
       "SelectMultiple(description='Exchanges', options=('EX_ch4_e', 'EX_o2_e', 'EX_meoh_e', 'EX_c2h6_e', 'EX_h2o_e', …"
      ]
     },
     "metadata": {},
     "output_type": "display_data"
    }
   ],
   "source": [
    "choose_exchanges = widgets.SelectMultiple(\n",
    "    options=[e.id for e in model.exchanges],\n",
    "    description='Exchanges',\n",
    "    disabled=False\n",
    ")\n",
    "choose_exchanges"
   ]
  },
  {
   "cell_type": "code",
   "execution_count": 42,
   "metadata": {},
   "outputs": [
    {
     "data": {
      "application/vnd.jupyter.widget-view+json": {
       "model_id": "056a60e33601484db55bb8dfd1581d7b",
       "version_major": 2,
       "version_minor": 0
      },
      "text/plain": [
       "Tab(children=(Text(value='', description='EX_ch4_e'), Text(value='', description='EX_meoh_e'), Text(value='', …"
      ]
     },
     "metadata": {},
     "output_type": "display_data"
    }
   ],
   "source": [
    "tab_contents = choose_exchanges.value\n",
    "children = [widgets.Text(description=name) for name in tab_contents]\n",
    "tab_ex = widgets.Tab()\n",
    "tab_ex.children = children\n",
    "for i, n in enumerate(children):\n",
    "    tab_ex.set_title(i, n.description)\n",
    "tab_ex"
   ]
  },
  {
   "cell_type": "code",
   "execution_count": 43,
   "metadata": {},
   "outputs": [],
   "source": [
    "bofs = [e.id for e in model.reactions.BOF.metabolites]\n",
    "ex = ['_'.join([e.id.split('_')[1], 'c']) for e in model.exchanges]\n",
    "\n",
    "for e in ex:\n",
    "    if ex not in bofs:\n",
    "        bofs.append(e)"
   ]
  },
  {
   "cell_type": "code",
   "execution_count": 44,
   "metadata": {},
   "outputs": [
    {
     "data": {
      "application/vnd.jupyter.widget-view+json": {
       "model_id": "e094bdabb6044838b075ef2b196a2a57",
       "version_major": 2,
       "version_minor": 0
      },
      "text/plain": [
       "SelectMultiple(description='Biomass mets', options=('h2o_c', 'atp_c', 'nadh_c', 'nad_c', 'for_c', 'ac_c', 'coa…"
      ]
     },
     "metadata": {},
     "output_type": "display_data"
    }
   ],
   "source": [
    "choose_biomass_changes = widgets.SelectMultiple(\n",
    "    options=bofs,\n",
    "    description='Biomass metabolits',\n",
    "    disabled=False\n",
    ")\n",
    "choose_biomass_changes"
   ]
  },
  {
   "cell_type": "code",
   "execution_count": 45,
   "metadata": {},
   "outputs": [
    {
     "data": {
      "application/vnd.jupyter.widget-view+json": {
       "model_id": "964a3b1253cc43639f5f4d4e70afc2ed",
       "version_major": 2,
       "version_minor": 0
      },
      "text/plain": [
       "Tab(children=(Text(value='', description='cu2_c'), Text(value='', description='tungs_c')), _titles={'0': 'cu2_…"
      ]
     },
     "metadata": {},
     "output_type": "display_data"
    }
   ],
   "source": [
    "tab_biomass = choose_biomass_changes.value\n",
    "children_biomass = [widgets.Text(description=name) for name in tab_biomass]\n",
    "tab_bio = widgets.Tab()\n",
    "tab_bio.children = children_biomass\n",
    "for i, n in enumerate(children_biomass):\n",
    "    tab_bio.set_title(i, n.description)\n",
    "tab_bio"
   ]
  },
  {
   "cell_type": "code",
   "execution_count": 13,
   "metadata": {},
   "outputs": [
    {
     "data": {
      "application/vnd.jupyter.widget-view+json": {
       "model_id": "67ee449b250f47d1a89793d7a7fa8965",
       "version_major": 2,
       "version_minor": 0
      },
      "text/plain": [
       "Checkbox(value=False, description='Change biomass?')"
      ]
     },
     "metadata": {},
     "output_type": "display_data"
    }
   ],
   "source": [
    "change_bio = widgets.Checkbox(value=False,\n",
    "                              description='Change biomass?',\n",
    "                              disabled=False)\n",
    "change_bio"
   ]
  },
  {
   "cell_type": "code",
   "execution_count": 61,
   "metadata": {},
   "outputs": [
    {
     "data": {
      "application/vnd.jupyter.widget-view+json": {
       "model_id": "5eccab59c597406bbd67514946c2ef63",
       "version_major": 2,
       "version_minor": 0
      },
      "text/plain": [
       "Text(value='Ca_noW_noCu_CH3OH.counts.tsv', description='Name:')"
      ]
     },
     "metadata": {},
     "output_type": "display_data"
    }
   ],
   "source": [
    "name_selector = widgets.Text(\n",
    "    value=transcript_selector.value,\n",
    "    description='Name:',\n",
    "    disabled=False\n",
    ")\n",
    "name_selector"
   ]
  },
  {
   "cell_type": "code",
   "execution_count": 62,
   "metadata": {},
   "outputs": [],
   "source": [
    "def changing_model_for_conditions(model, file_name):\n",
    "    changing_model = model.copy()\n",
    "    for e in tab_ex.children:\n",
    "        name = e.description\n",
    "        lb = float(e.value)\n",
    "        if name == 'EX_ch4_e':\n",
    "            changing_model.reactions.get_by_id(name).upper_bound = lb\n",
    "        if name == 'EX_la_e':\n",
    "            changing_model.reactions.get_by_id('LAt').lower_bound = -1000.\n",
    "            changing_model.reactions.MXALa_for.upper_bound =  1000.\n",
    "        if name == 'EX_tungs_e':\n",
    "            changing_model.reactions.get_by_id('TUNGSt').lower_bound = -1000.\n",
    "        changing_model.reactions.get_by_id(name).lower_bound = lb\n",
    "        \n",
    "        \n",
    "    if change_bio.value:\n",
    "        bof = model.reactions.BOF\n",
    "        bof_metabolites = bof.metabolites\n",
    "        \n",
    "        for bio in tab_bio.children:\n",
    "            metabolite = bio.description\n",
    "            st = float(bio.value)\n",
    "            c_metabolite = model.metabolites.get_by_id(metabolite)\n",
    "            if lb == 0:\n",
    "                if c_metabolite in bof_metabolites.keys():\n",
    "                    del bof_metabolites[c_metabolite]\n",
    "            else:\n",
    "                bof_metabolites[c_metabolite] = st\n",
    "\n",
    "        changing_model.reactions.BOF.remove_from_model()\n",
    "        \n",
    "        new_bof = cobra.Reaction('BOF')\n",
    "        new_bof.name = bof.name\n",
    "        new_bof.lower_bound = 0.\n",
    "        new_bof.upper_bound = 1000.\n",
    "        new_bof.add_metabolites(bof_metabolites)\n",
    "        changing_model.add_reactions([new_bof])   \n",
    "        changing_model.objective = 'BOF'\n",
    "        changing_model.problem.Constraint(model.reactions.get_by_id(\"BOF\").flux_expression)\n",
    "        \n",
    "    cobra.io.write_sbml_model(changing_model, joiner(path, f'wt_models/{file_name}_wt.xml'))\n",
    "    cobra.io.save_json_model(changing_model, joiner(path, f'wt_models/{file_name}_wt.json'))\n"
   ]
  },
  {
   "cell_type": "code",
   "execution_count": 66,
   "metadata": {},
   "outputs": [],
   "source": [
    "changing_model_for_conditions(model, name_selector.value)"
   ]
  },
  {
   "cell_type": "code",
   "execution_count": 64,
   "metadata": {},
   "outputs": [],
   "source": [
    "def run_riptide(file_name, frac_min, header=False, norm=True):\n",
    "    changed_model = cobra.io.read_sbml_model(joiner(path, f'wt_models/{file_name}_wt.xml'))\n",
    "    file_path = joiner(transcript_type_selector.value, transcript_selector.value)\n",
    "    t1 = riptide.read_transcription_file(file_path, header=header, norm=norm)\n",
    "    print(file_name, end='\\n\\n')\n",
    "    \n",
    "    o = riptide.maxfit(model=changed_model, transcriptome=t1, frac_min=frac_min, frac_max=1)\n",
    "\n",
    "    cobra.io.write_sbml_model(o.model, joiner(out_path, f'models/{file_name}_{frac_min}.xml'))\n",
    "    cobra.io.save_json_model(o.model, joiner(out_path, f'models/{file_name}_{frac_min}.json'))\n",
    "    \n",
    "    return o"
   ]
  },
  {
   "cell_type": "code",
   "execution_count": 67,
   "metadata": {},
   "outputs": [
    {
     "name": "stdout",
     "output_type": "stream",
     "text": [
      "counts_Ca_W_noCu_CH3OH_2017\n",
      "\n",
      "Running max fit RIPTiDe for objective fraction range: 0.3 to 0.9...\n",
      "Analyzing context-specific subnetwork flux ranges...\n",
      "Progress: 100%        \n",
      "\n",
      "No level of optimal objective flux correlated with transcriptome\n",
      "0.3 of optimum-associated model returned\n",
      "\n",
      "Reactions pruned to 397 from 444 (10.59% change)\n",
      "Metabolites pruned to 409 from 430 (4.88% change)\n",
      "WARNING: Context-specific model has no objective flux.\n",
      "\n",
      "RIPTiDe completed in 12 seconds\n",
      "\n"
     ]
    },
    {
     "ename": "AttributeError",
     "evalue": "'str' object has no attribute 'to_csv'",
     "output_type": "error",
     "traceback": [
      "\u001b[0;31m---------------------------------------------------------------------------\u001b[0m",
      "\u001b[0;31mAttributeError\u001b[0m                            Traceback (most recent call last)",
      "Input \u001b[0;32mIn [67]\u001b[0m, in \u001b[0;36m<cell line: 1>\u001b[0;34m()\u001b[0m\n\u001b[0;32m----> 1\u001b[0m \u001b[43mrun_riptide\u001b[49m\u001b[43m(\u001b[49m\u001b[43mname_selector\u001b[49m\u001b[38;5;241;43m.\u001b[39;49m\u001b[43mvalue\u001b[49m\u001b[43m)\u001b[49m\n",
      "Input \u001b[0;32mIn [64]\u001b[0m, in \u001b[0;36mrun_riptide\u001b[0;34m(file_name)\u001b[0m\n\u001b[1;32m      8\u001b[0m cobra\u001b[38;5;241m.\u001b[39mio\u001b[38;5;241m.\u001b[39mwrite_sbml_model(o\u001b[38;5;241m.\u001b[39mmodel, joiner(out_path, \u001b[38;5;124mf\u001b[39m\u001b[38;5;124m'\u001b[39m\u001b[38;5;124mmodels/\u001b[39m\u001b[38;5;132;01m{\u001b[39;00mfile_name\u001b[38;5;132;01m}\u001b[39;00m\u001b[38;5;124m.xml\u001b[39m\u001b[38;5;124m'\u001b[39m))\n\u001b[1;32m      9\u001b[0m cobra\u001b[38;5;241m.\u001b[39mio\u001b[38;5;241m.\u001b[39msave_json_model(o\u001b[38;5;241m.\u001b[39mmodel, joiner(out_path, \u001b[38;5;124mf\u001b[39m\u001b[38;5;124m'\u001b[39m\u001b[38;5;124mmodels/\u001b[39m\u001b[38;5;132;01m{\u001b[39;00mfile_name\u001b[38;5;132;01m}\u001b[39;00m\u001b[38;5;124m.json\u001b[39m\u001b[38;5;124m'\u001b[39m))\n\u001b[0;32m---> 10\u001b[0m \u001b[43mo\u001b[49m\u001b[38;5;241;43m.\u001b[39;49m\u001b[43mflux_samples\u001b[49m\u001b[38;5;241;43m.\u001b[39;49m\u001b[43mto_csv\u001b[49m(joiner(out_path, \u001b[38;5;124mf\u001b[39m\u001b[38;5;124m'\u001b[39m\u001b[38;5;124mfluxes/\u001b[39m\u001b[38;5;132;01m{\u001b[39;00mfile_name\u001b[38;5;132;01m}\u001b[39;00m\u001b[38;5;124m.csv\u001b[39m\u001b[38;5;124m'\u001b[39m))\n",
      "\u001b[0;31mAttributeError\u001b[0m: 'str' object has no attribute 'to_csv'"
     ]
    }
   ],
   "source": [
    "cs_model = run_riptide(name_selector.value, frac_min=0.3, header=False, norm=False)"
   ]
  },
  {
   "cell_type": "code",
   "execution_count": 10,
   "metadata": {},
   "outputs": [
    {
     "data": {
      "application/vnd.jupyter.widget-view+json": {
       "model_id": "2f799322a8e641938359b4e14236de44",
       "version_major": 2,
       "version_minor": 0
      },
      "text/plain": [
       "Dropdown(description='Models', options=('oxygen_limitation_wt.json', 'Ca_noW_noCu_CH3OH_wt.json', 'La_noW_noCu…"
      ]
     },
     "metadata": {},
     "output_type": "display_data"
    }
   ],
   "source": [
    "wt_json_models = os.listdir('20Z/wt_models')\n",
    "wt_model_selector = widgets.Dropdown(\n",
    "    options=[f for f in wt_json_models if f.endswith('.json')],\n",
    "    value=wt_json_models[0],\n",
    "    description='Models',\n",
    ")\n",
    "wt_model_selector"
   ]
  },
  {
   "cell_type": "code",
   "execution_count": 3,
   "metadata": {},
   "outputs": [],
   "source": [
    "builder_wt = Builder(map_json='20Z/new_20Zmap_La_W.json')\n",
    "builder_wt.model = cobra.io.load_json_model(f'20Z/wt_models/{wt_model_selector.value}')\n",
    "solution_wt = cobra.flux_analysis.pfba(builder_wt.model)\n",
    "builder_wt.reaction_data = solution_wt.fluxes\n",
    "builder_wt.reaction_scale = [\n",
    "    { 'type': 'value', 'value': 10, 'color': '#ed3124', 'size': 25 },\n",
    "    { 'type': 'value', 'value': 8, 'color': '#edb724', 'size': 20 },\n",
    "    { 'type': 'value', 'value': 5, 'color': '#edea24', 'size': 20 },\n",
    "    { 'type': 'value', 'value': 2.5, 'color': '#069108', 'size': 20 },\n",
    "    { 'type': 'value', 'value': 1.0, 'color': '#022bf7', 'size': 20 },\n",
    "    { 'type': 'value', 'value': 0.5, 'color': '#0299f7', 'size': 20 },\n",
    "    { 'type': 'value', 'value': 0.05, 'color': '#9696ff', 'size': 16 },\n",
    "    { 'type': 'value', 'value': 0, 'color': '#ededed', 'size': 16 }\n",
    "    \n",
    "]"
   ]
  },
  {
   "cell_type": "code",
   "execution_count": 4,
   "metadata": {},
   "outputs": [
    {
     "data": {
      "application/vnd.jupyter.widget-view+json": {
       "model_id": "08df0760744940e8ae4b4e4c35423f51",
       "version_major": 2,
       "version_minor": 0
      },
      "text/plain": [
       "Builder(reaction_data={'EX_ch4_e': -11.7, 'EX_o2_e': -13.771798687426847, 'EX_meoh_e': 0.0, 'MEohtep': 0.0, 'E…"
      ]
     },
     "metadata": {},
     "output_type": "display_data"
    }
   ],
   "source": [
    "builder_wt"
   ]
  },
  {
   "cell_type": "code",
   "execution_count": 51,
   "metadata": {},
   "outputs": [
    {
     "data": {
      "application/vnd.jupyter.widget-view+json": {
       "model_id": "9cac0ce01b4149cf91e99c3f2c806292",
       "version_major": 2,
       "version_minor": 0
      },
      "text/plain": [
       "Dropdown(description='Models', options=('control_2020.counts.json', 'counts_methane_limitation.json', 'counts_…"
      ]
     },
     "metadata": {},
     "output_type": "display_data"
    }
   ],
   "source": [
    "path_to_models = joiner(out_path, 'models/')\n",
    "json_models = [f for f in os.listdir(path_to_models) if f.endswith('.json')]\n",
    "\n",
    "model_selector = widgets.Dropdown(\n",
    "    options=json_models,\n",
    "    value=json_models[0],\n",
    "    description='Models',\n",
    ")\n",
    "model_selector"
   ]
  },
  {
   "cell_type": "code",
   "execution_count": 52,
   "metadata": {
    "scrolled": true
   },
   "outputs": [
    {
     "data": {
      "application/vnd.jupyter.widget-view+json": {
       "model_id": "a181c4b400654ffc85a938e72d76725c",
       "version_major": 2,
       "version_minor": 0
      },
      "text/plain": [
       "Builder(reaction_data={'EX_o2_e': -7.705504613049158, 'EX_meoh_e': -11.686541863753668, 'MEohtep': 11.68654186…"
      ]
     },
     "metadata": {},
     "output_type": "display_data"
    }
   ],
   "source": [
    "builder_transcript = Builder(map_json='20Z/new_20Zmap_La_W.json')\n",
    "builder_transcript.model = cobra.io.load_json_model(joiner(path_to_models, model_selector.value))\n",
    "solution_transcript = cobra.flux_analysis.pfba(builder_transcript.model)\n",
    "builder_transcript.reaction_data = solution_transcript.fluxes\n",
    "builder_transcript.reaction_scale = [\n",
    "    { 'type': 'value', 'value': 10, 'color': '#ed3124', 'size': 25 },\n",
    "    { 'type': 'value', 'value': 8, 'color': '#edb724', 'size': 20 },\n",
    "    { 'type': 'value', 'value': 5, 'color': '#edea24', 'size': 20 },\n",
    "    { 'type': 'value', 'value': 2.5, 'color': '#069108', 'size': 20 },\n",
    "    { 'type': 'value', 'value': 1.0, 'color': '#022bf7', 'size': 20 },\n",
    "    { 'type': 'value', 'value': 0.5, 'color': '#0299f7', 'size': 20 },\n",
    "    { 'type': 'value', 'value': 0.05, 'color': '#9696ff', 'size': 16 },\n",
    "    { 'type': 'value', 'value': 0, 'color': '#ededed', 'size': 16 }\n",
    "    \n",
    "]"
   ]
  },
  {
   "cell_type": "code",
   "execution_count": null,
   "metadata": {},
   "outputs": [],
   "source": [
    "builder_transcript"
   ]
  },
  {
   "cell_type": "markdown",
   "metadata": {},
   "source": [
    "## DRF analysis"
   ]
  },
  {
   "cell_type": "code",
   "execution_count": 9,
   "metadata": {},
   "outputs": [],
   "source": [
    "path_wt_models = ('20Z/wt_models')\n",
    "path_to_models = joiner(out_path, 'models/')\n",
    "\n",
    "wt_models = [f for f in os.listdir(path_wt_models) if f.endswith('.xml')]\n",
    "cs_models = [f for f in os.listdir(path_to_models) if f.endswith('.xml')]"
   ]
  },
  {
   "cell_type": "code",
   "execution_count": 10,
   "metadata": {},
   "outputs": [
    {
     "data": {
      "application/vnd.jupyter.widget-view+json": {
       "model_id": "d0639df1b8e841f89eab5d5671cf9d8c",
       "version_major": 2,
       "version_minor": 0
      },
      "text/plain": [
       "Dropdown(description='Models', options=('CS_model_ch4_Ca_W_Cu.xml', 'CS_model_La_W_Cu.xml'), value='CS_model_c…"
      ]
     },
     "metadata": {},
     "output_type": "display_data"
    }
   ],
   "source": [
    "def model_1_selector_func(model_type):\n",
    "    if model_type == 'cs':\n",
    "        models = cs_models\n",
    "    else:\n",
    "        models = wt_models\n",
    "    model_1_selector = widgets.Dropdown(\n",
    "        options=models,\n",
    "        value=models[0],\n",
    "        description='Models',\n",
    "    )\n",
    "    return model_1_selector\n",
    "\n",
    "\n",
    "model_1_selector = model_1_selector_func('cs')\n",
    "model_1_selector"
   ]
  },
  {
   "cell_type": "code",
   "execution_count": 11,
   "metadata": {},
   "outputs": [
    {
     "data": {
      "application/vnd.jupyter.widget-view+json": {
       "model_id": "67ee98c53f2445138c9b3de23f619dd6",
       "version_major": 2,
       "version_minor": 0
      },
      "text/plain": [
       "Dropdown(description='Models', options=('CS_model_ch4_Ca_W_Cu.xml', 'CS_model_La_W_Cu.xml'), value='CS_model_c…"
      ]
     },
     "metadata": {},
     "output_type": "display_data"
    }
   ],
   "source": [
    "model_2_selector = model_1_selector_func('cs')\n",
    "model_2_selector"
   ]
  },
  {
   "cell_type": "code",
   "execution_count": 54,
   "metadata": {},
   "outputs": [],
   "source": [
    "def make_merged_fluxes(m1, m2, name1, name2):\n",
    "    fluxes1 = cobra.flux_analysis.pfba(m1).fluxes\n",
    "    fluxes2 = cobra.flux_analysis.pfba(m2).fluxes\n",
    "    fluxes1.name = name1\n",
    "    fluxes2.name = name2\n",
    "\n",
    "    flux_df = pd.DataFrame([fluxes1, fluxes2]).T\n",
    "    flux_df.dropna(subset=[name1, name2], inplace=True, how='all')\n",
    "    flux_df.fillna(0.0, inplace=True)\n",
    "    return flux_df\n",
    "\n",
    "\n",
    "name1, name2 = 'CS_Ca_W_Cu', 'CS_La_W_Cu'\n",
    "\n",
    "#path_wt_models - при использовании wt моделей iIA409\n",
    "#path_to_models - при использование CS-моделей\n",
    "\n",
    "m1 = cobra.io.read_sbml_model(joiner(path_to_models, model_1_selector.value))\n",
    "m2 = cobra.io.read_sbml_model(joiner(path_wt_models, model_2_selector.value))\n",
    "\n",
    "flux_df = make_merged_fluxes(m1, m2, name1, name2)"
   ]
  },
  {
   "cell_type": "code",
   "execution_count": 55,
   "metadata": {},
   "outputs": [],
   "source": [
    "col_name = 'DRF'\n",
    "\n",
    "for i, r in flux_df.iterrows():\n",
    "    if (r[name2]) != 0:\n",
    "        if r[name1] != 0:\n",
    "            flux_df.loc[i, col_name] = round(r[name1] / r[name2], 5)\n",
    "        else:\n",
    "            flux_df.loc[i, col_name] = 1000.0\n",
    "    else:\n",
    "        if r[name1] != 0:\n",
    "            flux_df.loc[i, col_name] = 2000.0\n",
    "        else:\n",
    "            flux_df.loc[i, col_name] = 0.0\n",
    "            \n",
    "#fluxes\n",
    "filt_table = flux_df[(flux_df[col_name] >= 1.5) | (flux_df[col_name] < 0.67)]\n",
    "filt_table.to_csv(f'{out_path}/DRF/{name1}_vs_{name2}.txt', sep='\\t')\n",
    "filt_table[col_name].to_csv(f'{out_path}/DRF/fluxes_{name1}_vs_{name2}.csv', sep=',')"
   ]
  },
  {
   "cell_type": "code",
   "execution_count": null,
   "metadata": {},
   "outputs": [],
   "source": [
    "scale_dict = [\n",
    "    { 'type': 'value', 'value': 10, 'color': '#ed3124', 'size': 25 },\n",
    "    { 'type': 'value', 'value': 8, 'color': '#edb724', 'size': 20 },\n",
    "    { 'type': 'value', 'value': 5, 'color': '#edea24', 'size': 20 },\n",
    "    { 'type': 'value', 'value': 2.5, 'color': '#069108', 'size': 20 },\n",
    "    { 'type': 'value', 'value': 1.0, 'color': '#022bf7', 'size': 20 },\n",
    "    { 'type': 'value', 'value': 0.5, 'color': '#0299f7', 'size': 20 },\n",
    "    { 'type': 'value', 'value': 0.05, 'color': '#9696ff', 'size': 16 },\n",
    "    { 'type': 'value', 'value': 0, 'color': '#ededed', 'size': 16 },\n",
    "    { 'type': 'value', 'value': 1000.0, 'color': '#ff00c3', 'size': 25 },\n",
    "    { 'type': 'value', 'value': 2000.0, 'color': '#00fffb', 'size': 25 }\n",
    "]"
   ]
  },
  {
   "cell_type": "code",
   "execution_count": 56,
   "metadata": {},
   "outputs": [],
   "source": [
    "builder_def = Builder(map_json='20Z/new_20Zmap_La_W.json')\n",
    "builder_def.reaction_data = filt_table[col_name]\n",
    "builder_def.reaction_scale = scale_dict\n",
    "builder_def.save_html(f'{out_path}/DRF/{name1}_vs_{name2}.html')"
   ]
  },
  {
   "cell_type": "code",
   "execution_count": 57,
   "metadata": {},
   "outputs": [
    {
     "data": {
      "text/plain": [
       "'Ca_W_noCu_CH3OH_2017_vs_methane_limitation_Ca'"
      ]
     },
     "execution_count": 57,
     "metadata": {},
     "output_type": "execute_result"
    }
   ],
   "source": [
    "f'{name1}_vs_{name2}'"
   ]
  },
  {
   "cell_type": "code",
   "execution_count": 58,
   "metadata": {},
   "outputs": [
    {
     "data": {
      "application/vnd.jupyter.widget-view+json": {
       "model_id": "6557e818fbef4a70a893aee7d56f1af0",
       "version_major": 2,
       "version_minor": 0
      },
      "text/plain": [
       "Builder(reaction_data={'EX_o2_e': 0.62104, 'EX_meoh_e': 2000.0, 'MEohtep': 2000.0, 'O2tec': 2.38753, 'H2Otcp':…"
      ]
     },
     "metadata": {},
     "output_type": "display_data"
    }
   ],
   "source": [
    "builder_def"
   ]
  }
 ],
 "metadata": {
  "kernelspec": {
   "display_name": "Python 3 (ipykernel)",
   "language": "python",
   "name": "python3"
  },
  "language_info": {
   "codemirror_mode": {
    "name": "ipython",
    "version": 3
   },
   "file_extension": ".py",
   "mimetype": "text/x-python",
   "name": "python",
   "nbconvert_exporter": "python",
   "pygments_lexer": "ipython3",
   "version": "3.9.2"
  },
  "toc": {
   "base_numbering": 1,
   "nav_menu": {},
   "number_sections": false,
   "sideBar": false,
   "skip_h1_title": false,
   "title_cell": "Table of Contents",
   "title_sidebar": "Contents",
   "toc_cell": false,
   "toc_position": {},
   "toc_section_display": false,
   "toc_window_display": false
  }
 },
 "nbformat": 4,
 "nbformat_minor": 2
}
