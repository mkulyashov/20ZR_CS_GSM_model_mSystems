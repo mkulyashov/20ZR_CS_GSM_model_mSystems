{
 "cells": [
  {
   "cell_type": "code",
   "execution_count": 2,
   "metadata": {},
   "outputs": [],
   "source": [
    "import cobra\n",
    "import os\n",
    "from cobra import Metabolite, Reaction\n",
    "import escher\n",
    "from escher import Builder\n",
    "\n",
    "\n",
    "joiner = lambda e1, e2: os.path.join(e1, e2)\n",
    "path = '20Z'"
   ]
  },
  {
   "cell_type": "markdown",
   "metadata": {},
   "source": [
    "## Prepare paths and downloading model"
   ]
  },
  {
   "cell_type": "code",
   "execution_count": null,
   "metadata": {},
   "outputs": [],
   "source": [
    "maker([path])"
   ]
  },
  {
   "cell_type": "code",
   "execution_count": 31,
   "metadata": {},
   "outputs": [
    {
     "data": {
      "text/plain": [
       "(None,\n",
       " {'SBML_FATAL': [],\n",
       "  'SBML_ERROR': ['E0 (Error): XML content (core, L1); Missing XML declaration; Missing XML declaration at beginning of XML input.\\n',\n",
       "   'E1 (Error): General SBML conformance (core, L29); Document does not conform to the SBML XML schema; An SBML XML document must conform to the XML Schema for the corresponding SBML Level, Version and Release. The XML Schema for SBML defines the basic SBML object structure, the data types used by those objects, and the order in which the objects may appear in an SBML document.\\n'],\n",
       "  'SBML_SCHEMA_ERROR': [],\n",
       "  'SBML_WARNING': [],\n",
       "  'COBRA_FATAL': [],\n",
       "  'COBRA_ERROR': ['No SBML model detected in file.'],\n",
       "  'COBRA_WARNING': [],\n",
       "  'COBRA_CHECK': []})"
      ]
     },
     "execution_count": 31,
     "metadata": {},
     "output_type": "execute_result"
    }
   ],
   "source": [
    "model = cobra.io.read_sbml_model(joiner(path, 'fbc_iIA409_20Z.xml'))"
   ]
  },
  {
   "cell_type": "code",
   "execution_count": 104,
   "metadata": {},
   "outputs": [
    {
     "data": {
      "text/plain": [
       "{'e': '', 'p': '', 'c': ''}"
      ]
     },
     "execution_count": 104,
     "metadata": {},
     "output_type": "execute_result"
    }
   ],
   "source": [
    "model.compartments"
   ]
  },
  {
   "cell_type": "markdown",
   "metadata": {},
   "source": [
    "## Tungstate adding"
   ]
  },
  {
   "cell_type": "code",
   "execution_count": 105,
   "metadata": {},
   "outputs": [],
   "source": [
    "w_e = Metabolite(\n",
    "    'tungs_e',\n",
    "    name='Tungstate',\n",
    "    formula='O4W1',\n",
    "    charge=-2,\n",
    "    compartment='e'\n",
    ")\n",
    "model.add_metabolites([w_e])"
   ]
  },
  {
   "cell_type": "code",
   "execution_count": 106,
   "metadata": {},
   "outputs": [
    {
     "data": {
      "text/html": [
       "\n",
       "        <table>\n",
       "            <tr>\n",
       "                <td><strong>Reaction identifier</strong></td><td>EX_tungs_e</td>\n",
       "            </tr><tr>\n",
       "                <td><strong>Name</strong></td><td>Tungstate exchange</td>\n",
       "            </tr><tr>\n",
       "                <td><strong>Memory address</strong></td>\n",
       "                <td>0x7fb6c05162b0</td>\n",
       "            </tr><tr>\n",
       "                <td><strong>Stoichiometry</strong></td>\n",
       "                <td>\n",
       "                    <p style='text-align:right'>tungs_e --></p>\n",
       "                    <p style='text-align:right'>Tungstate --></p>\n",
       "                </td>\n",
       "            </tr><tr>\n",
       "                <td><strong>GPR</strong></td><td></td>\n",
       "            </tr><tr>\n",
       "                <td><strong>Lower bound</strong></td><td>0</td>\n",
       "            </tr><tr>\n",
       "                <td><strong>Upper bound</strong></td><td>1000</td>\n",
       "            </tr>\n",
       "        </table>\n",
       "        "
      ],
      "text/plain": [
       "<Reaction EX_tungs_e at 0x7fb6c05162b0>"
      ]
     },
     "execution_count": 106,
     "metadata": {},
     "output_type": "execute_result"
    }
   ],
   "source": [
    "model.add_boundary(w_e, type=\"exchange\", lb = 0, ub = 1000)"
   ]
  },
  {
   "cell_type": "code",
   "execution_count": 107,
   "metadata": {},
   "outputs": [],
   "source": [
    "w_p = Metabolite(\n",
    "    'tungs_p',\n",
    "    name='Tungstate',\n",
    "    formula='O4W1',\n",
    "    charge=-2,\n",
    "    compartment='p'\n",
    ")\n"
   ]
  },
  {
   "cell_type": "code",
   "execution_count": 108,
   "metadata": {},
   "outputs": [],
   "source": [
    "w_c = Metabolite(\n",
    "    'tungs_c',\n",
    "    name='Tungstate',\n",
    "    formula='O4W1',\n",
    "    charge=-2,\n",
    "    compartment='c'\n",
    ")"
   ]
  },
  {
   "cell_type": "code",
   "execution_count": 109,
   "metadata": {},
   "outputs": [],
   "source": [
    "atp = model.metabolites.atp_c\n",
    "adp = model.metabolites.adp_c\n",
    "h = model.metabolites.h_c\n",
    "h2o = model.metabolites.h2o_c\n",
    "pi = model.metabolites.pi_c"
   ]
  },
  {
   "cell_type": "code",
   "execution_count": 110,
   "metadata": {},
   "outputs": [],
   "source": [
    "w_p_transpot = Reaction('TUNGSabcp')\n",
    "w_p_transpot.name = 'Tungstate transport via ABC system (exchange to periplasm)'\n",
    "w_p_transpot.subsystem = 'Transport'\n",
    "w_p_transpot.lower_bound = 0.\n",
    "w_p_transpot.upper_bound = 1000."
   ]
  },
  {
   "cell_type": "code",
   "execution_count": 111,
   "metadata": {},
   "outputs": [],
   "source": [
    "w_p_transpot.add_metabolites({atp: -1, h2o: -1, w_e: -1, adp: 1, h: 1, pi: 1, w_p: 1})"
   ]
  },
  {
   "cell_type": "code",
   "execution_count": 112,
   "metadata": {},
   "outputs": [],
   "source": [
    "w_transpot = Reaction('TUNGSt')\n",
    "w_transpot.name = 'Tungstate transport via diffusion (periplasm to cell)'\n",
    "w_transpot.subsystem = 'Transport'\n",
    "w_transpot.lower_bound = -0.\n",
    "w_transpot.upper_bound = 0."
   ]
  },
  {
   "cell_type": "code",
   "execution_count": 113,
   "metadata": {},
   "outputs": [],
   "source": [
    "w_transpot.add_metabolites({w_p: -1, w_c: 1})"
   ]
  },
  {
   "cell_type": "code",
   "execution_count": 114,
   "metadata": {},
   "outputs": [],
   "source": [
    "model.add_reactions([w_p_transpot, w_transpot])"
   ]
  },
  {
   "cell_type": "markdown",
   "metadata": {},
   "source": [
    "## Lanthanum adding"
   ]
  },
  {
   "cell_type": "code",
   "execution_count": 115,
   "metadata": {},
   "outputs": [],
   "source": [
    "la_e = Metabolite(\n",
    "    'la_e',\n",
    "    name='Lanthanum+3',\n",
    "    formula='La',\n",
    "    charge=+3,\n",
    "    compartment='e'\n",
    ")\n",
    "model.add_metabolites([la_e])"
   ]
  },
  {
   "cell_type": "code",
   "execution_count": 116,
   "metadata": {},
   "outputs": [
    {
     "data": {
      "text/html": [
       "\n",
       "        <table>\n",
       "            <tr>\n",
       "                <td><strong>Reaction identifier</strong></td><td>EX_la_e</td>\n",
       "            </tr><tr>\n",
       "                <td><strong>Name</strong></td><td>Lanthanum+3 exchange</td>\n",
       "            </tr><tr>\n",
       "                <td><strong>Memory address</strong></td>\n",
       "                <td>0x7fb6c0a5ce20</td>\n",
       "            </tr><tr>\n",
       "                <td><strong>Stoichiometry</strong></td>\n",
       "                <td>\n",
       "                    <p style='text-align:right'>la_e --></p>\n",
       "                    <p style='text-align:right'>Lanthanum+3 --></p>\n",
       "                </td>\n",
       "            </tr><tr>\n",
       "                <td><strong>GPR</strong></td><td></td>\n",
       "            </tr><tr>\n",
       "                <td><strong>Lower bound</strong></td><td>0</td>\n",
       "            </tr><tr>\n",
       "                <td><strong>Upper bound</strong></td><td>1000</td>\n",
       "            </tr>\n",
       "        </table>\n",
       "        "
      ],
      "text/plain": [
       "<Reaction EX_la_e at 0x7fb6c0a5ce20>"
      ]
     },
     "execution_count": 116,
     "metadata": {},
     "output_type": "execute_result"
    }
   ],
   "source": [
    "model.add_boundary(la_e, type=\"exchange\", lb = 0, ub = 1000)"
   ]
  },
  {
   "cell_type": "code",
   "execution_count": 117,
   "metadata": {},
   "outputs": [],
   "source": [
    "la_p = Metabolite(\n",
    "    'la_p',\n",
    "    name='Lanthanum+3',\n",
    "    formula='La',\n",
    "    charge=+3,\n",
    "    compartment='p'\n",
    ")"
   ]
  },
  {
   "cell_type": "code",
   "execution_count": 118,
   "metadata": {},
   "outputs": [],
   "source": [
    "la_c = Metabolite(\n",
    "    'la_c',\n",
    "    name='Lanthanum+3',\n",
    "    formula='La',\n",
    "    charge=+3,\n",
    "    compartment='c'\n",
    ")"
   ]
  },
  {
   "cell_type": "code",
   "execution_count": 119,
   "metadata": {},
   "outputs": [],
   "source": [
    "la_p_transpot = Reaction('LAabcp')\n",
    "la_p_transpot.name = 'Lanthanum transport via ABC system (exchange to periplasm)'\n",
    "la_p_transpot.subsystem = 'Transport'\n",
    "la_p_transpot.lower_bound = 0.\n",
    "la_p_transpot.upper_bound = 1000."
   ]
  },
  {
   "cell_type": "code",
   "execution_count": 120,
   "metadata": {},
   "outputs": [],
   "source": [
    "la_p_transpot.add_metabolites({atp: -1, h2o: -1, la_e: -1, adp: 1, h: 1, pi: 1, la_p: 1})"
   ]
  },
  {
   "cell_type": "code",
   "execution_count": 121,
   "metadata": {},
   "outputs": [],
   "source": [
    "la_transpot = Reaction('LAt')\n",
    "la_transpot.name = 'Lanthanum transport via diffusion (periplasm to cell)'\n",
    "la_transpot.subsystem = 'Transport'\n",
    "la_transpot.lower_bound = -0.\n",
    "la_transpot.upper_bound = 0."
   ]
  },
  {
   "cell_type": "code",
   "execution_count": 122,
   "metadata": {},
   "outputs": [],
   "source": [
    "la_transpot.add_metabolites({la_p: -1, la_c: 1})"
   ]
  },
  {
   "cell_type": "code",
   "execution_count": 123,
   "metadata": {},
   "outputs": [],
   "source": [
    "model.add_reactions([la_p_transpot, la_transpot])"
   ]
  },
  {
   "cell_type": "markdown",
   "metadata": {},
   "source": [
    "## Ca reactions modification"
   ]
  },
  {
   "cell_type": "code",
   "execution_count": 124,
   "metadata": {},
   "outputs": [],
   "source": [
    "ca2_t = model.reactions.Ca2tec"
   ]
  },
  {
   "cell_type": "code",
   "execution_count": 125,
   "metadata": {},
   "outputs": [],
   "source": [
    "ca_p = Metabolite(\n",
    "    'ca2_p',\n",
    "    name='Ca+2',\n",
    "    formula='Ca',\n",
    "    charge=+2,\n",
    "    compartment='p'\n",
    ")"
   ]
  },
  {
   "cell_type": "code",
   "execution_count": 126,
   "metadata": {},
   "outputs": [],
   "source": [
    "ca_p_transpot = Reaction('Ca2tep')\n",
    "ca_p_transpot.name = 'Ca2  transport via ABC system (exchange to periplasm)'\n",
    "ca_p_transpot.subsystem = 'Transport'\n",
    "ca_p_transpot.lower_bound = 0.\n",
    "ca_p_transpot.upper_bound = 1000.\n",
    "ca_p_transpot.gene_reaction_rule = ca2_t.gene_reaction_rule"
   ]
  },
  {
   "cell_type": "code",
   "execution_count": 127,
   "metadata": {},
   "outputs": [],
   "source": [
    "ca_p_transpot.add_metabolites({atp: -1, h2o: -1, model.metabolites.ca2_e: -1, adp: 1, h: 1, pi: 1, ca_p: 1})"
   ]
  },
  {
   "cell_type": "code",
   "execution_count": 128,
   "metadata": {},
   "outputs": [],
   "source": [
    "ca_transpot = Reaction('Ca2t')\n",
    "ca_transpot.name = 'Ca2 transport via diffusion (periplasm to cell)'\n",
    "ca_transpot.subsystem = 'Transport'\n",
    "ca_transpot.lower_bound = -1000.\n",
    "ca_transpot.upper_bound = 0.\n",
    "ca_transpot.gene_reaction_rule = ca2_t.gene_reaction_rule"
   ]
  },
  {
   "cell_type": "code",
   "execution_count": 129,
   "metadata": {},
   "outputs": [],
   "source": [
    "ca_transpot.add_metabolites({ca_p: -1,  model.metabolites.ca2_c: 1})"
   ]
  },
  {
   "cell_type": "code",
   "execution_count": 130,
   "metadata": {},
   "outputs": [],
   "source": [
    "model.add_reactions([ca_p_transpot, ca_transpot])\n",
    "model.reactions.Ca2tec.delete()"
   ]
  },
  {
   "cell_type": "code",
   "execution_count": 131,
   "metadata": {},
   "outputs": [
    {
     "data": {
      "text/html": [
       "\n",
       "        <table>\n",
       "            <tr>\n",
       "                <td><strong>Reaction identifier</strong></td><td>Ca2tep</td>\n",
       "            </tr><tr>\n",
       "                <td><strong>Name</strong></td><td>Ca2 transport via ABC system (exchange to periplasm)</td>\n",
       "            </tr><tr>\n",
       "                <td><strong>Memory address</strong></td>\n",
       "                <td>0x7fb6c0590d60</td>\n",
       "            </tr><tr>\n",
       "                <td><strong>Stoichiometry</strong></td>\n",
       "                <td>\n",
       "                    <p style='text-align:right'>atp_c + ca2_e + h2o_c --> adp_c + ca2_p + h_c + pi_c</p>\n",
       "                    <p style='text-align:right'>ATP + Ca+2 + H2O --> ADP + Ca+2 + H+ + phosphate</p>\n",
       "                </td>\n",
       "            </tr><tr>\n",
       "                <td><strong>GPR</strong></td><td>MEALZ_2422 or MEALZ_2573</td>\n",
       "            </tr><tr>\n",
       "                <td><strong>Lower bound</strong></td><td>0.0</td>\n",
       "            </tr><tr>\n",
       "                <td><strong>Upper bound</strong></td><td>1000.0</td>\n",
       "            </tr>\n",
       "        </table>\n",
       "        "
      ],
      "text/plain": [
       "<Reaction Ca2tep at 0x7fb6c0590d60>"
      ]
     },
     "execution_count": 131,
     "metadata": {},
     "output_type": "execute_result"
    }
   ],
   "source": [
    "model.reactions.Ca2tep"
   ]
  },
  {
   "cell_type": "markdown",
   "metadata": {},
   "source": [
    "## Modification of reactions"
   ]
  },
  {
   "cell_type": "markdown",
   "metadata": {},
   "source": [
    "### Making FDHTungs"
   ]
  },
  {
   "cell_type": "code",
   "execution_count": 132,
   "metadata": {},
   "outputs": [],
   "source": [
    "fdh = model.reactions.FDH"
   ]
  },
  {
   "cell_type": "code",
   "execution_count": 133,
   "metadata": {},
   "outputs": [
    {
     "data": {
      "text/plain": [
       "{<Metabolite nad_c at 0x7fb6c0764310>: -1.0,\n",
       " <Metabolite for_c at 0x7fb6c0764820>: -1.0,\n",
       " <Metabolite nadh_c at 0x7fb6c0764340>: 1.0,\n",
       " <Metabolite co2_c at 0x7fb6c0764250>: 1.0}"
      ]
     },
     "execution_count": 133,
     "metadata": {},
     "output_type": "execute_result"
    }
   ],
   "source": [
    "fdh.metabolites"
   ]
  },
  {
   "cell_type": "code",
   "execution_count": 134,
   "metadata": {},
   "outputs": [],
   "source": [
    "fdh_w = Reaction('FDHTungs')\n",
    "fdh_w.name = 'Tungsten dependent formate dehydrogenase'\n",
    "fdh_w.lower_bound = 0.\n",
    "fdh_w.upper_bound = 1000.\n",
    "fdh_w.gene_reaction_rule = fdh.gene_reaction_rule"
   ]
  },
  {
   "cell_type": "code",
   "execution_count": 135,
   "metadata": {},
   "outputs": [],
   "source": [
    "fdh_w.add_metabolites(fdh.metabolites)"
   ]
  },
  {
   "cell_type": "code",
   "execution_count": 136,
   "metadata": {},
   "outputs": [],
   "source": [
    "fdh_w.add_metabolites({w_p: -1, w_c: 1 })"
   ]
  },
  {
   "cell_type": "code",
   "execution_count": 137,
   "metadata": {},
   "outputs": [],
   "source": [
    "model.add_reactions([fdh_w])"
   ]
  },
  {
   "cell_type": "code",
   "execution_count": 138,
   "metadata": {},
   "outputs": [
    {
     "data": {
      "text/html": [
       "\n",
       "        <table>\n",
       "            <tr>\n",
       "                <td><strong>Reaction identifier</strong></td><td>FDHTungs</td>\n",
       "            </tr><tr>\n",
       "                <td><strong>Name</strong></td><td>Tungsten dependent formate dehydrogenase</td>\n",
       "            </tr><tr>\n",
       "                <td><strong>Memory address</strong></td>\n",
       "                <td>0x7fb6c059a400</td>\n",
       "            </tr><tr>\n",
       "                <td><strong>Stoichiometry</strong></td>\n",
       "                <td>\n",
       "                    <p style='text-align:right'>for_c + nad_c + tungs_p --> co2_c + nadh_c + tungs_c</p>\n",
       "                    <p style='text-align:right'>formate + NAD+ + Tungstate --> CO2 + NADH + Tungstate</p>\n",
       "                </td>\n",
       "            </tr><tr>\n",
       "                <td><strong>GPR</strong></td><td>(MEALZ_0215 and MEALZ_0216 and MEALZ_0217) or (MEALZ_1882 and MEALZ_1883)</td>\n",
       "            </tr><tr>\n",
       "                <td><strong>Lower bound</strong></td><td>0.0</td>\n",
       "            </tr><tr>\n",
       "                <td><strong>Upper bound</strong></td><td>1000.0</td>\n",
       "            </tr>\n",
       "        </table>\n",
       "        "
      ],
      "text/plain": [
       "<Reaction FDHTungs at 0x7fb6c059a400>"
      ]
     },
     "execution_count": 138,
     "metadata": {},
     "output_type": "execute_result"
    }
   ],
   "source": [
    "model.reactions.FDHTungs"
   ]
  },
  {
   "cell_type": "code",
   "execution_count": 139,
   "metadata": {},
   "outputs": [
    {
     "data": {
      "text/html": [
       "\n",
       "        <table>\n",
       "            <tr>\n",
       "                <td><strong>Reaction identifier</strong></td><td>FDH</td>\n",
       "            </tr><tr>\n",
       "                <td><strong>Name</strong></td><td>formate dehydrogenase</td>\n",
       "            </tr><tr>\n",
       "                <td><strong>Memory address</strong></td>\n",
       "                <td>0x7fb6c0640cd0</td>\n",
       "            </tr><tr>\n",
       "                <td><strong>Stoichiometry</strong></td>\n",
       "                <td>\n",
       "                    <p style='text-align:right'>for_c + nad_c --> co2_c + nadh_c</p>\n",
       "                    <p style='text-align:right'>formate + NAD+ --> CO2 + NADH</p>\n",
       "                </td>\n",
       "            </tr><tr>\n",
       "                <td><strong>GPR</strong></td><td>(MEALZ_0215 and MEALZ_0216 and MEALZ_0217) or (MEALZ_1882 and MEALZ_1883)</td>\n",
       "            </tr><tr>\n",
       "                <td><strong>Lower bound</strong></td><td>0.0</td>\n",
       "            </tr><tr>\n",
       "                <td><strong>Upper bound</strong></td><td>1000.0</td>\n",
       "            </tr>\n",
       "        </table>\n",
       "        "
      ],
      "text/plain": [
       "<Reaction FDH at 0x7fb6c0640cd0>"
      ]
     },
     "execution_count": 139,
     "metadata": {},
     "output_type": "execute_result"
    }
   ],
   "source": [
    "model.reactions.FDH"
   ]
  },
  {
   "cell_type": "markdown",
   "metadata": {},
   "source": [
    "### Making MXA with Ca"
   ]
  },
  {
   "cell_type": "code",
   "execution_count": 140,
   "metadata": {},
   "outputs": [
    {
     "data": {
      "text/html": [
       "\n",
       "        <table>\n",
       "            <tr>\n",
       "                <td><strong>Reaction identifier</strong></td><td>MXA</td>\n",
       "            </tr><tr>\n",
       "                <td><strong>Name</strong></td><td>methanol dehydrogenase (cytochrome cL-mxaF)</td>\n",
       "            </tr><tr>\n",
       "                <td><strong>Memory address</strong></td>\n",
       "                <td>0x7fb6c0a72ac0</td>\n",
       "            </tr><tr>\n",
       "                <td><strong>Stoichiometry</strong></td>\n",
       "                <td>\n",
       "                    <p style='text-align:right'>cytCLox_p + meoh_p --> cytCLred_p + fald_p + 2.0 h_c</p>\n",
       "                    <p style='text-align:right'>cytochrome cL + methanol --> Reduced cytochrome cL + formaldehyde + 2.0 H+</p>\n",
       "                </td>\n",
       "            </tr><tr>\n",
       "                <td><strong>GPR</strong></td><td>MEALZ_3445 and MEALZ_3446 and MEALZ_3447 and MEALZ_3448</td>\n",
       "            </tr><tr>\n",
       "                <td><strong>Lower bound</strong></td><td>0.0</td>\n",
       "            </tr><tr>\n",
       "                <td><strong>Upper bound</strong></td><td>1000.0</td>\n",
       "            </tr>\n",
       "        </table>\n",
       "        "
      ],
      "text/plain": [
       "<Reaction MXA at 0x7fb6c0a72ac0>"
      ]
     },
     "execution_count": 140,
     "metadata": {},
     "output_type": "execute_result"
    }
   ],
   "source": [
    "model.reactions.MXA"
   ]
  },
  {
   "cell_type": "code",
   "execution_count": 141,
   "metadata": {},
   "outputs": [],
   "source": [
    "model.reactions.MXA.add_metabolites({ca_p: -1, model.metabolites.ca2_c: 1 })"
   ]
  },
  {
   "cell_type": "code",
   "execution_count": 142,
   "metadata": {},
   "outputs": [
    {
     "data": {
      "text/html": [
       "\n",
       "        <table>\n",
       "            <tr>\n",
       "                <td><strong>Reaction identifier</strong></td><td>MXA</td>\n",
       "            </tr><tr>\n",
       "                <td><strong>Name</strong></td><td>methanol dehydrogenase (cytochrome cL-mxaF)</td>\n",
       "            </tr><tr>\n",
       "                <td><strong>Memory address</strong></td>\n",
       "                <td>0x7fb6c0a72ac0</td>\n",
       "            </tr><tr>\n",
       "                <td><strong>Stoichiometry</strong></td>\n",
       "                <td>\n",
       "                    <p style='text-align:right'>ca2_p + cytCLox_p + meoh_p --> ca2_c + cytCLred_p + fald_p + 2.0 h_c</p>\n",
       "                    <p style='text-align:right'>Ca+2 + cytochrome cL + methanol --> Ca+2 + Reduced cytochrome cL + formaldehyde + 2.0 H+</p>\n",
       "                </td>\n",
       "            </tr><tr>\n",
       "                <td><strong>GPR</strong></td><td>MEALZ_3445 and MEALZ_3446 and MEALZ_3447 and MEALZ_3448</td>\n",
       "            </tr><tr>\n",
       "                <td><strong>Lower bound</strong></td><td>0.0</td>\n",
       "            </tr><tr>\n",
       "                <td><strong>Upper bound</strong></td><td>1000.0</td>\n",
       "            </tr>\n",
       "        </table>\n",
       "        "
      ],
      "text/plain": [
       "<Reaction MXA at 0x7fb6c0a72ac0>"
      ]
     },
     "execution_count": 142,
     "metadata": {},
     "output_type": "execute_result"
    }
   ],
   "source": [
    "model.reactions.MXA"
   ]
  },
  {
   "cell_type": "markdown",
   "metadata": {},
   "source": [
    "### Making MXALa with La and adding MXALa fald -> for"
   ]
  },
  {
   "cell_type": "code",
   "execution_count": 143,
   "metadata": {},
   "outputs": [],
   "source": [
    "mxala = model.reactions.MXALa"
   ]
  },
  {
   "cell_type": "code",
   "execution_count": 144,
   "metadata": {},
   "outputs": [
    {
     "data": {
      "text/html": [
       "\n",
       "        <table>\n",
       "            <tr>\n",
       "                <td><strong>Reaction identifier</strong></td><td>MXALa</td>\n",
       "            </tr><tr>\n",
       "                <td><strong>Name</strong></td><td>methanol dehydrogenase (xoxF)</td>\n",
       "            </tr><tr>\n",
       "                <td><strong>Memory address</strong></td>\n",
       "                <td>0x7fb6c0a7b7f0</td>\n",
       "            </tr><tr>\n",
       "                <td><strong>Stoichiometry</strong></td>\n",
       "                <td>\n",
       "                    <p style='text-align:right'>cytCLox_p + fald_p --> cytCLred_p + for_p + 2.0 h_c</p>\n",
       "                    <p style='text-align:right'>cytochrome cL + formaldehyde --> Reduced cytochrome cL + for[p] + 2.0 H+</p>\n",
       "                </td>\n",
       "            </tr><tr>\n",
       "                <td><strong>GPR</strong></td><td>MEALZ_3497</td>\n",
       "            </tr><tr>\n",
       "                <td><strong>Lower bound</strong></td><td>0.0</td>\n",
       "            </tr><tr>\n",
       "                <td><strong>Upper bound</strong></td><td>1000.0</td>\n",
       "            </tr>\n",
       "        </table>\n",
       "        "
      ],
      "text/plain": [
       "<Reaction MXALa at 0x7fb6c0a7b7f0>"
      ]
     },
     "execution_count": 144,
     "metadata": {},
     "output_type": "execute_result"
    }
   ],
   "source": [
    "mxala"
   ]
  },
  {
   "cell_type": "code",
   "execution_count": 145,
   "metadata": {},
   "outputs": [],
   "source": [
    "new_mxala = Reaction('MXALa')\n",
    "new_mxala.name = mxala.name\n",
    "new_mxala.lower_bound = 0.\n",
    "new_mxala.upper_bound = 1000.\n",
    "new_mxala.gene_reaction_rule = mxala.gene_reaction_rule"
   ]
  },
  {
   "cell_type": "code",
   "execution_count": null,
   "metadata": {},
   "outputs": [],
   "source": [
    "mxala_2 = Reaction('MXALa_for')\n",
    "mxala_2.name = mxala.name\n",
    "mxala_2.lower_bound = 0.\n",
    "mxala_2.upper_bound = 0.\n",
    "mxala_2.gene_reaction_rule = mxala.gene_reaction_rule"
   ]
  },
  {
   "cell_type": "code",
   "execution_count": null,
   "metadata": {},
   "outputs": [],
   "source": [
    "mxala_2.add_metabolites(mxala.metabolites)"
   ]
  },
  {
   "cell_type": "code",
   "execution_count": 146,
   "metadata": {},
   "outputs": [],
   "source": [
    "mxla_met = mxala.metabolites\n",
    "del mxla_met[model.metabolites.fald_p]\n",
    "del mxla_met[model.metabolites.for_p]"
   ]
  },
  {
   "cell_type": "code",
   "execution_count": 147,
   "metadata": {},
   "outputs": [],
   "source": [
    "new_mxala.add_metabolites({la_p: -1, la_c: 1, model.metabolites.meoh_p: -1, model.metabolites.fald_p: 1})\n",
    "new_mxala.add_metabolites(mxla_met)"
   ]
  },
  {
   "cell_type": "code",
   "execution_count": 148,
   "metadata": {},
   "outputs": [
    {
     "data": {
      "text/html": [
       "\n",
       "        <table>\n",
       "            <tr>\n",
       "                <td><strong>Reaction identifier</strong></td><td>MXALa</td>\n",
       "            </tr><tr>\n",
       "                <td><strong>Name</strong></td><td>methanol dehydrogenase (xoxF)</td>\n",
       "            </tr><tr>\n",
       "                <td><strong>Memory address</strong></td>\n",
       "                <td>0x7fb6c04ede20</td>\n",
       "            </tr><tr>\n",
       "                <td><strong>Stoichiometry</strong></td>\n",
       "                <td>\n",
       "                    <p style='text-align:right'>cytCLox_p + la_p + meoh_p --> cytCLred_p + fald_p + 2.0 h_c + la_c</p>\n",
       "                    <p style='text-align:right'>cytochrome cL + Lanthanum+3 + methanol --> Reduced cytochrome cL + formaldehyde + 2.0 H+ + Lanthanum+3</p>\n",
       "                </td>\n",
       "            </tr><tr>\n",
       "                <td><strong>GPR</strong></td><td>MEALZ_3497</td>\n",
       "            </tr><tr>\n",
       "                <td><strong>Lower bound</strong></td><td>0.0</td>\n",
       "            </tr><tr>\n",
       "                <td><strong>Upper bound</strong></td><td>1000.0</td>\n",
       "            </tr>\n",
       "        </table>\n",
       "        "
      ],
      "text/plain": [
       "<Reaction MXALa at 0x7fb6c04ede20>"
      ]
     },
     "execution_count": 148,
     "metadata": {},
     "output_type": "execute_result"
    }
   ],
   "source": [
    "new_mxala"
   ]
  },
  {
   "cell_type": "code",
   "execution_count": 149,
   "metadata": {},
   "outputs": [],
   "source": [
    "model.reactions.MXALa.delete()"
   ]
  },
  {
   "cell_type": "code",
   "execution_count": 150,
   "metadata": {},
   "outputs": [],
   "source": [
    "model.add_reactions([new_mxala])"
   ]
  },
  {
   "cell_type": "code",
   "execution_count": 151,
   "metadata": {},
   "outputs": [
    {
     "data": {
      "text/html": [
       "\n",
       "        <table>\n",
       "            <tr>\n",
       "                <td><strong>Reaction identifier</strong></td><td>MXALa</td>\n",
       "            </tr><tr>\n",
       "                <td><strong>Name</strong></td><td>methanol dehydrogenase (xoxF)</td>\n",
       "            </tr><tr>\n",
       "                <td><strong>Memory address</strong></td>\n",
       "                <td>0x7fb6c04ede20</td>\n",
       "            </tr><tr>\n",
       "                <td><strong>Stoichiometry</strong></td>\n",
       "                <td>\n",
       "                    <p style='text-align:right'>cytCLox_p + la_p + meoh_p --> cytCLred_p + fald_p + 2.0 h_c + la_c</p>\n",
       "                    <p style='text-align:right'>cytochrome cL + Lanthanum+3 + methanol --> Reduced cytochrome cL + formaldehyde + 2.0 H+ + Lanthanum+3</p>\n",
       "                </td>\n",
       "            </tr><tr>\n",
       "                <td><strong>GPR</strong></td><td>MEALZ_3497</td>\n",
       "            </tr><tr>\n",
       "                <td><strong>Lower bound</strong></td><td>0.0</td>\n",
       "            </tr><tr>\n",
       "                <td><strong>Upper bound</strong></td><td>1000.0</td>\n",
       "            </tr>\n",
       "        </table>\n",
       "        "
      ],
      "text/plain": [
       "<Reaction MXALa at 0x7fb6c04ede20>"
      ]
     },
     "execution_count": 151,
     "metadata": {},
     "output_type": "execute_result"
    }
   ],
   "source": [
    "model.reactions.MXALa"
   ]
  },
  {
   "cell_type": "code",
   "execution_count": null,
   "metadata": {},
   "outputs": [],
   "source": []
  },
  {
   "cell_type": "code",
   "execution_count": null,
   "metadata": {},
   "outputs": [],
   "source": []
  },
  {
   "cell_type": "code",
   "execution_count": 152,
   "metadata": {},
   "outputs": [],
   "source": [
    "cobra.io.write_sbml_model(model, joiner(path, 'W_La_Ca_iIA409_20Z.xml'))"
   ]
  },
  {
   "cell_type": "code",
   "execution_count": 153,
   "metadata": {},
   "outputs": [],
   "source": [
    "cobra.io.save_json_model(model, joiner(path, 'W_La_Ca_iIA409_20Z.json'))"
   ]
  },
  {
   "cell_type": "code",
   "execution_count": 3,
   "metadata": {},
   "outputs": [],
   "source": [
    "builder_wt = Builder(map_json='20Z/new_20Zmap.json')\n",
    "#builder_wt.model = m\n",
    "builder_wt.model = cobra.io.load_json_model(joiner(path, 'W_La_Ca_iIA409_20Z.json'))\n",
    "solution_wt = builder_wt.model.optimize()\n",
    "builder_wt.reaction_data = solution_wt.fluxes"
   ]
  },
  {
   "cell_type": "code",
   "execution_count": 4,
   "metadata": {},
   "outputs": [
    {
     "data": {
      "application/vnd.jupyter.widget-view+json": {
       "model_id": "d27934f548e246c0adaafa6af12010f1",
       "version_major": 2,
       "version_minor": 0
      },
      "text/plain": [
       "Builder(reaction_data={'EX_ch4_e': -11.7, 'EX_o2_e': -13.771798687419345, 'EX_meoh_e': 0.0, 'MEohtep': 0.0, 'E…"
      ]
     },
     "metadata": {},
     "output_type": "display_data"
    }
   ],
   "source": [
    "builder_wt"
   ]
  }
 ],
 "metadata": {
  "kernelspec": {
   "display_name": "Python 3 (ipykernel)",
   "language": "python",
   "name": "python3"
  },
  "language_info": {
   "codemirror_mode": {
    "name": "ipython",
    "version": 3
   },
   "file_extension": ".py",
   "mimetype": "text/x-python",
   "name": "python",
   "nbconvert_exporter": "python",
   "pygments_lexer": "ipython3",
   "version": "3.9.2"
  },
  "toc": {
   "base_numbering": 1,
   "nav_menu": {},
   "number_sections": false,
   "sideBar": false,
   "skip_h1_title": false,
   "title_cell": "Table of Contents",
   "title_sidebar": "Contents",
   "toc_cell": false,
   "toc_position": {},
   "toc_section_display": false,
   "toc_window_display": false
  }
 },
 "nbformat": 4,
 "nbformat_minor": 2
}
